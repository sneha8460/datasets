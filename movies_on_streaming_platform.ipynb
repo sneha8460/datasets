{
  "cells": [
    {
      "cell_type": "markdown",
      "metadata": {},
      "source": [
        "# importing the libraries"
      ]
    },
    {
      "cell_type": "code",
      "execution_count": 91,
      "metadata": {
        "id": "ob3kIWxZVn5W"
      },
      "outputs": [],
      "source": [
        "import numpy as np\n",
        "import pandas as pd"
      ]
    },
    {
      "cell_type": "markdown",
      "metadata": {},
      "source": [
        "# loading the dataset "
      ]
    },
    {
      "cell_type": "code",
      "execution_count": 92,
      "metadata": {
        "colab": {
          "base_uri": "https://localhost:8080/"
        },
        "id": "oSb5vJ5NVwcG",
        "outputId": "9a4bc97f-cbfe-4257-b8db-6b9a78d657aa"
      },
      "outputs": [],
      "source": [
        "movie=pd.read_csv('https://raw.githubusercontent.com/rajeevratan84/datascienceforbusiness/refs/heads/master/MoviesOnStreamingPlatforms_updated.csv')\n",
        "\n",
        "\n"
      ]
    },
    {
      "cell_type": "markdown",
      "metadata": {},
      "source": [
        "# understanding the dataset"
      ]
    },
    {
      "cell_type": "code",
      "execution_count": 93,
      "metadata": {},
      "outputs": [
        {
          "data": {
            "text/plain": [
              "Index(['Unnamed: 0', 'ID', 'Title', 'Year', 'Age', 'IMDb', 'Rotten Tomatoes',\n",
              "       'Netflix', 'Hulu', 'Prime Video', 'Disney+', 'Type', 'Directors',\n",
              "       'Genres', 'Country', 'Language', 'Runtime'],\n",
              "      dtype='object')"
            ]
          },
          "execution_count": 93,
          "metadata": {},
          "output_type": "execute_result"
        }
      ],
      "source": [
        "movie.columns"
      ]
    },
    {
      "cell_type": "code",
      "execution_count": 94,
      "metadata": {},
      "outputs": [
        {
          "name": "stdout",
          "output_type": "stream",
          "text": [
            "<class 'pandas.core.frame.DataFrame'>\n",
            "RangeIndex: 16744 entries, 0 to 16743\n",
            "Data columns (total 17 columns):\n",
            " #   Column           Non-Null Count  Dtype  \n",
            "---  ------           --------------  -----  \n",
            " 0   Unnamed: 0       16744 non-null  int64  \n",
            " 1   ID               16744 non-null  int64  \n",
            " 2   Title            16744 non-null  object \n",
            " 3   Year             16744 non-null  int64  \n",
            " 4   Age              7354 non-null   object \n",
            " 5   IMDb             16173 non-null  float64\n",
            " 6   Rotten Tomatoes  5158 non-null   object \n",
            " 7   Netflix          16744 non-null  int64  \n",
            " 8   Hulu             16744 non-null  int64  \n",
            " 9   Prime Video      16744 non-null  int64  \n",
            " 10  Disney+          16744 non-null  int64  \n",
            " 11  Type             16744 non-null  int64  \n",
            " 12  Directors        16018 non-null  object \n",
            " 13  Genres           16469 non-null  object \n",
            " 14  Country          16309 non-null  object \n",
            " 15  Language         16130 non-null  object \n",
            " 16  Runtime          16152 non-null  float64\n",
            "dtypes: float64(2), int64(8), object(7)\n",
            "memory usage: 2.2+ MB\n"
          ]
        }
      ],
      "source": [
        "movie.info()"
      ]
    },
    {
      "cell_type": "markdown",
      "metadata": {},
      "source": [
        "# Data cleaning"
      ]
    },
    {
      "cell_type": "code",
      "execution_count": 95,
      "metadata": {
        "id": "foMaEDj1W5lu"
      },
      "outputs": [],
      "source": [
        "movie=movie.drop(columns=['Unnamed: 0']) # removing the unnecessary columns"
      ]
    },
    {
      "cell_type": "code",
      "execution_count": 96,
      "metadata": {
        "colab": {
          "base_uri": "https://localhost:8080/"
        },
        "id": "X1xk3kcQW5iI",
        "outputId": "96adf31b-aedc-4d31-c926-68dbb343f5d9"
      },
      "outputs": [],
      "source": [
        "movie['Age']=movie['Age'].fillna(movie['Age'].mode()[0])\n",
        "movie['IMDb']=movie['IMDb'].fillna(movie['IMDb'].mean()).round(1)\n",
        "\n",
        "movie['Rotten Tomatoes']=movie['Rotten Tomatoes'].str.strip('%')\n",
        "movie['Rotten Tomatoes']=movie['Rotten Tomatoes'].astype(float)\n",
        "movie['Rotten Tomatoes']=(movie['Rotten Tomatoes'].fillna(movie['Rotten Tomatoes'].mean())/10).round(1)"
      ]
    },
    {
      "cell_type": "code",
      "execution_count": 97,
      "metadata": {
        "colab": {
          "base_uri": "https://localhost:8080/"
        },
        "id": "q6bnIHMlW5cu",
        "outputId": "29d5792b-3c4c-45a8-944b-2b7213cea233"
      },
      "outputs": [],
      "source": [
        "movie['Directors']=movie['Directors'].fillna('unknown')\n",
        "movie['Genres']=movie['Genres'].fillna('unknown')\n",
        "movie['Country']=movie['Country'].fillna('unknown')\n",
        "movie['Language']=movie['Language'].fillna('unknown')\n",
        "movie['Runtime']=movie['Runtime'].fillna(movie['Runtime'].mean())"
      ]
    },
    {
      "cell_type": "code",
      "execution_count": 98,
      "metadata": {
        "colab": {
          "base_uri": "https://localhost:8080/"
        },
        "id": "GuuDHulEW5V0",
        "outputId": "b85713bc-aa99-4235-b32d-506a1a141663"
      },
      "outputs": [
        {
          "name": "stdout",
          "output_type": "stream",
          "text": [
            "<class 'pandas.core.frame.DataFrame'>\n",
            "RangeIndex: 16744 entries, 0 to 16743\n",
            "Data columns (total 16 columns):\n",
            " #   Column           Non-Null Count  Dtype  \n",
            "---  ------           --------------  -----  \n",
            " 0   ID               16744 non-null  int64  \n",
            " 1   Title            16744 non-null  object \n",
            " 2   Year             16744 non-null  int64  \n",
            " 3   Age              16744 non-null  object \n",
            " 4   IMDb             16744 non-null  float64\n",
            " 5   Rotten Tomatoes  16744 non-null  float64\n",
            " 6   Netflix          16744 non-null  int64  \n",
            " 7   Hulu             16744 non-null  int64  \n",
            " 8   Prime Video      16744 non-null  int64  \n",
            " 9   Disney+          16744 non-null  int64  \n",
            " 10  Type             16744 non-null  int64  \n",
            " 11  Directors        16744 non-null  object \n",
            " 12  Genres           16744 non-null  object \n",
            " 13  Country          16744 non-null  object \n",
            " 14  Language         16744 non-null  object \n",
            " 15  Runtime          16744 non-null  float64\n",
            "dtypes: float64(3), int64(7), object(6)\n",
            "memory usage: 2.0+ MB\n"
          ]
        }
      ],
      "source": [
        "movie.info()"
      ]
    },
    {
      "cell_type": "code",
      "execution_count": 99,
      "metadata": {
        "colab": {
          "base_uri": "https://localhost:8080/",
          "height": 112
        },
        "id": "EfalVzruWoes",
        "outputId": "8f96fb80-54ca-4ffb-c2f8-9cdc18e65c4d"
      },
      "outputs": [
        {
          "data": {
            "text/html": [
              "<div>\n",
              "<style scoped>\n",
              "    .dataframe tbody tr th:only-of-type {\n",
              "        vertical-align: middle;\n",
              "    }\n",
              "\n",
              "    .dataframe tbody tr th {\n",
              "        vertical-align: top;\n",
              "    }\n",
              "\n",
              "    .dataframe thead th {\n",
              "        text-align: right;\n",
              "    }\n",
              "</style>\n",
              "<table border=\"1\" class=\"dataframe\">\n",
              "  <thead>\n",
              "    <tr style=\"text-align: right;\">\n",
              "      <th></th>\n",
              "      <th>ID</th>\n",
              "      <th>Title</th>\n",
              "      <th>Year</th>\n",
              "      <th>Age</th>\n",
              "      <th>IMDb</th>\n",
              "      <th>Rotten Tomatoes</th>\n",
              "      <th>Netflix</th>\n",
              "      <th>Hulu</th>\n",
              "      <th>Prime Video</th>\n",
              "      <th>Disney+</th>\n",
              "      <th>Type</th>\n",
              "      <th>Directors</th>\n",
              "      <th>Genres</th>\n",
              "      <th>Country</th>\n",
              "      <th>Language</th>\n",
              "      <th>Runtime</th>\n",
              "    </tr>\n",
              "  </thead>\n",
              "  <tbody>\n",
              "    <tr>\n",
              "      <th>0</th>\n",
              "      <td>1</td>\n",
              "      <td>Inception</td>\n",
              "      <td>2010</td>\n",
              "      <td>13+</td>\n",
              "      <td>8.8</td>\n",
              "      <td>8.7</td>\n",
              "      <td>1</td>\n",
              "      <td>0</td>\n",
              "      <td>0</td>\n",
              "      <td>0</td>\n",
              "      <td>0</td>\n",
              "      <td>Christopher Nolan</td>\n",
              "      <td>Action,Adventure,Sci-Fi,Thriller</td>\n",
              "      <td>United States,United Kingdom</td>\n",
              "      <td>English,Japanese,French</td>\n",
              "      <td>148.0</td>\n",
              "    </tr>\n",
              "    <tr>\n",
              "      <th>1</th>\n",
              "      <td>2</td>\n",
              "      <td>The Matrix</td>\n",
              "      <td>1999</td>\n",
              "      <td>18+</td>\n",
              "      <td>8.7</td>\n",
              "      <td>8.7</td>\n",
              "      <td>1</td>\n",
              "      <td>0</td>\n",
              "      <td>0</td>\n",
              "      <td>0</td>\n",
              "      <td>0</td>\n",
              "      <td>Lana Wachowski,Lilly Wachowski</td>\n",
              "      <td>Action,Sci-Fi</td>\n",
              "      <td>United States</td>\n",
              "      <td>English</td>\n",
              "      <td>136.0</td>\n",
              "    </tr>\n",
              "  </tbody>\n",
              "</table>\n",
              "</div>"
            ],
            "text/plain": [
              "   ID       Title  Year  Age  IMDb  Rotten Tomatoes  Netflix  Hulu  \\\n",
              "0   1   Inception  2010  13+   8.8              8.7        1     0   \n",
              "1   2  The Matrix  1999  18+   8.7              8.7        1     0   \n",
              "\n",
              "   Prime Video  Disney+  Type                       Directors  \\\n",
              "0            0        0     0               Christopher Nolan   \n",
              "1            0        0     0  Lana Wachowski,Lilly Wachowski   \n",
              "\n",
              "                             Genres                       Country  \\\n",
              "0  Action,Adventure,Sci-Fi,Thriller  United States,United Kingdom   \n",
              "1                     Action,Sci-Fi                 United States   \n",
              "\n",
              "                  Language  Runtime  \n",
              "0  English,Japanese,French    148.0  \n",
              "1                  English    136.0  "
            ]
          },
          "execution_count": 99,
          "metadata": {},
          "output_type": "execute_result"
        }
      ],
      "source": [
        "movie.head(2)"
      ]
    },
    {
      "cell_type": "code",
      "execution_count": 100,
      "metadata": {
        "colab": {
          "base_uri": "https://localhost:8080/",
          "height": 424
        },
        "id": "_WRJZRWHWq3K",
        "outputId": "8425678b-9cf9-4378-af42-2847324e43c1"
      },
      "outputs": [
        {
          "data": {
            "text/html": [
              "<div>\n",
              "<style scoped>\n",
              "    .dataframe tbody tr th:only-of-type {\n",
              "        vertical-align: middle;\n",
              "    }\n",
              "\n",
              "    .dataframe tbody tr th {\n",
              "        vertical-align: top;\n",
              "    }\n",
              "\n",
              "    .dataframe thead th {\n",
              "        text-align: right;\n",
              "    }\n",
              "</style>\n",
              "<table border=\"1\" class=\"dataframe\">\n",
              "  <thead>\n",
              "    <tr style=\"text-align: right;\">\n",
              "      <th></th>\n",
              "      <th>Title</th>\n",
              "      <th>IMDb</th>\n",
              "      <th>Genres</th>\n",
              "    </tr>\n",
              "  </thead>\n",
              "  <tbody>\n",
              "    <tr>\n",
              "      <th>0</th>\n",
              "      <td>Inception</td>\n",
              "      <td>8.8</td>\n",
              "      <td>Action</td>\n",
              "    </tr>\n",
              "    <tr>\n",
              "      <th>0</th>\n",
              "      <td>Inception</td>\n",
              "      <td>8.8</td>\n",
              "      <td>Adventure</td>\n",
              "    </tr>\n",
              "    <tr>\n",
              "      <th>0</th>\n",
              "      <td>Inception</td>\n",
              "      <td>8.8</td>\n",
              "      <td>Sci-Fi</td>\n",
              "    </tr>\n",
              "    <tr>\n",
              "      <th>0</th>\n",
              "      <td>Inception</td>\n",
              "      <td>8.8</td>\n",
              "      <td>Thriller</td>\n",
              "    </tr>\n",
              "    <tr>\n",
              "      <th>1</th>\n",
              "      <td>The Matrix</td>\n",
              "      <td>8.7</td>\n",
              "      <td>Action</td>\n",
              "    </tr>\n",
              "  </tbody>\n",
              "</table>\n",
              "</div>"
            ],
            "text/plain": [
              "        Title  IMDb     Genres\n",
              "0   Inception   8.8     Action\n",
              "0   Inception   8.8  Adventure\n",
              "0   Inception   8.8     Sci-Fi\n",
              "0   Inception   8.8   Thriller\n",
              "1  The Matrix   8.7     Action"
            ]
          },
          "execution_count": 100,
          "metadata": {},
          "output_type": "execute_result"
        }
      ],
      "source": [
        "x=movie['Genres'].str.split(',')\n",
        "Genres=x.explode()\n",
        "\n",
        "Genres_df=pd.merge(movie[['Title','IMDb']],Genres,left_index=True,right_index=True)\n",
        "Genres_df.head()"
      ]
    },
    {
      "cell_type": "code",
      "execution_count": 101,
      "metadata": {
        "id": "cH-8-_nCWqzi"
      },
      "outputs": [
        {
          "data": {
            "text/html": [
              "<div>\n",
              "<style scoped>\n",
              "    .dataframe tbody tr th:only-of-type {\n",
              "        vertical-align: middle;\n",
              "    }\n",
              "\n",
              "    .dataframe tbody tr th {\n",
              "        vertical-align: top;\n",
              "    }\n",
              "\n",
              "    .dataframe thead th {\n",
              "        text-align: right;\n",
              "    }\n",
              "</style>\n",
              "<table border=\"1\" class=\"dataframe\">\n",
              "  <thead>\n",
              "    <tr style=\"text-align: right;\">\n",
              "      <th></th>\n",
              "      <th>Title</th>\n",
              "      <th>IMDb</th>\n",
              "      <th>Language</th>\n",
              "    </tr>\n",
              "  </thead>\n",
              "  <tbody>\n",
              "    <tr>\n",
              "      <th>0</th>\n",
              "      <td>Inception</td>\n",
              "      <td>8.8</td>\n",
              "      <td>English</td>\n",
              "    </tr>\n",
              "    <tr>\n",
              "      <th>0</th>\n",
              "      <td>Inception</td>\n",
              "      <td>8.8</td>\n",
              "      <td>Japanese</td>\n",
              "    </tr>\n",
              "    <tr>\n",
              "      <th>0</th>\n",
              "      <td>Inception</td>\n",
              "      <td>8.8</td>\n",
              "      <td>French</td>\n",
              "    </tr>\n",
              "    <tr>\n",
              "      <th>1</th>\n",
              "      <td>The Matrix</td>\n",
              "      <td>8.7</td>\n",
              "      <td>English</td>\n",
              "    </tr>\n",
              "    <tr>\n",
              "      <th>2</th>\n",
              "      <td>Avengers: Infinity War</td>\n",
              "      <td>8.5</td>\n",
              "      <td>English</td>\n",
              "    </tr>\n",
              "  </tbody>\n",
              "</table>\n",
              "</div>"
            ],
            "text/plain": [
              "                    Title  IMDb  Language\n",
              "0               Inception   8.8   English\n",
              "0               Inception   8.8  Japanese\n",
              "0               Inception   8.8    French\n",
              "1              The Matrix   8.7   English\n",
              "2  Avengers: Infinity War   8.5   English"
            ]
          },
          "execution_count": 101,
          "metadata": {},
          "output_type": "execute_result"
        }
      ],
      "source": [
        "# Splitting 'Language' column where multiple languages are separated by commas\n",
        "language_split = movie['Language'].str.split(',')\n",
        "Languages = language_split.explode()\n",
        "\n",
        "# Creating a DataFrame with Title, IMDb, and Language\n",
        "Languages_df = pd.merge(movie[['Title', 'IMDb']], Languages, left_index=True, right_index=True)\n",
        "Languages_df.head()\n"
      ]
    },
    {
      "cell_type": "code",
      "execution_count": 102,
      "metadata": {
        "id": "xa-n0DArWqxL"
      },
      "outputs": [
        {
          "data": {
            "text/html": [
              "<div>\n",
              "<style scoped>\n",
              "    .dataframe tbody tr th:only-of-type {\n",
              "        vertical-align: middle;\n",
              "    }\n",
              "\n",
              "    .dataframe tbody tr th {\n",
              "        vertical-align: top;\n",
              "    }\n",
              "\n",
              "    .dataframe thead th {\n",
              "        text-align: right;\n",
              "    }\n",
              "</style>\n",
              "<table border=\"1\" class=\"dataframe\">\n",
              "  <thead>\n",
              "    <tr style=\"text-align: right;\">\n",
              "      <th></th>\n",
              "      <th>Title</th>\n",
              "      <th>IMDb</th>\n",
              "      <th>Platform</th>\n",
              "    </tr>\n",
              "  </thead>\n",
              "  <tbody>\n",
              "    <tr>\n",
              "      <th>0</th>\n",
              "      <td>Inception</td>\n",
              "      <td>8.8</td>\n",
              "      <td>Netflix</td>\n",
              "    </tr>\n",
              "    <tr>\n",
              "      <th>1</th>\n",
              "      <td>The Matrix</td>\n",
              "      <td>8.7</td>\n",
              "      <td>Netflix</td>\n",
              "    </tr>\n",
              "    <tr>\n",
              "      <th>2</th>\n",
              "      <td>Avengers: Infinity War</td>\n",
              "      <td>8.5</td>\n",
              "      <td>Netflix</td>\n",
              "    </tr>\n",
              "    <tr>\n",
              "      <th>3</th>\n",
              "      <td>Back to the Future</td>\n",
              "      <td>8.5</td>\n",
              "      <td>Netflix</td>\n",
              "    </tr>\n",
              "    <tr>\n",
              "      <th>4</th>\n",
              "      <td>The Good, the Bad and the Ugly</td>\n",
              "      <td>8.8</td>\n",
              "      <td>Netflix</td>\n",
              "    </tr>\n",
              "  </tbody>\n",
              "</table>\n",
              "</div>"
            ],
            "text/plain": [
              "                            Title  IMDb Platform\n",
              "0                       Inception   8.8  Netflix\n",
              "1                      The Matrix   8.7  Netflix\n",
              "2          Avengers: Infinity War   8.5  Netflix\n",
              "3              Back to the Future   8.5  Netflix\n",
              "4  The Good, the Bad and the Ugly   8.8  Netflix"
            ]
          },
          "execution_count": 102,
          "metadata": {},
          "output_type": "execute_result"
        }
      ],
      "source": [
        "# Melting the dataset to transform platform columns into rows\n",
        "Platforms_df = movie.melt(id_vars=['Title', 'IMDb'], \n",
        "                          value_vars=['Netflix', 'Hulu', 'Prime Video', 'Disney+'], \n",
        "                          var_name='Platform', \n",
        "                          value_name='Available')\n",
        "\n",
        "# Filtering out movies that are NOT available (Available == 0)\n",
        "Platforms_df = Platforms_df[Platforms_df['Available'] == 1].drop(columns=['Available'])\n",
        "\n",
        "Platforms_df.head()\n"
      ]
    },
    {
      "cell_type": "code",
      "execution_count": 103,
      "metadata": {
        "id": "6f-ljFaXWquW"
      },
      "outputs": [
        {
          "data": {
            "text/html": [
              "<div>\n",
              "<style scoped>\n",
              "    .dataframe tbody tr th:only-of-type {\n",
              "        vertical-align: middle;\n",
              "    }\n",
              "\n",
              "    .dataframe tbody tr th {\n",
              "        vertical-align: top;\n",
              "    }\n",
              "\n",
              "    .dataframe thead th {\n",
              "        text-align: right;\n",
              "    }\n",
              "</style>\n",
              "<table border=\"1\" class=\"dataframe\">\n",
              "  <thead>\n",
              "    <tr style=\"text-align: right;\">\n",
              "      <th></th>\n",
              "      <th>Title</th>\n",
              "      <th>IMDb</th>\n",
              "      <th>Directors</th>\n",
              "    </tr>\n",
              "  </thead>\n",
              "  <tbody>\n",
              "    <tr>\n",
              "      <th>0</th>\n",
              "      <td>Inception</td>\n",
              "      <td>8.8</td>\n",
              "      <td>Christopher Nolan</td>\n",
              "    </tr>\n",
              "    <tr>\n",
              "      <th>1</th>\n",
              "      <td>The Matrix</td>\n",
              "      <td>8.7</td>\n",
              "      <td>Lana Wachowski</td>\n",
              "    </tr>\n",
              "    <tr>\n",
              "      <th>1</th>\n",
              "      <td>The Matrix</td>\n",
              "      <td>8.7</td>\n",
              "      <td>Lilly Wachowski</td>\n",
              "    </tr>\n",
              "    <tr>\n",
              "      <th>2</th>\n",
              "      <td>Avengers: Infinity War</td>\n",
              "      <td>8.5</td>\n",
              "      <td>Anthony Russo</td>\n",
              "    </tr>\n",
              "    <tr>\n",
              "      <th>2</th>\n",
              "      <td>Avengers: Infinity War</td>\n",
              "      <td>8.5</td>\n",
              "      <td>Joe Russo</td>\n",
              "    </tr>\n",
              "  </tbody>\n",
              "</table>\n",
              "</div>"
            ],
            "text/plain": [
              "                    Title  IMDb          Directors\n",
              "0               Inception   8.8  Christopher Nolan\n",
              "1              The Matrix   8.7     Lana Wachowski\n",
              "1              The Matrix   8.7    Lilly Wachowski\n",
              "2  Avengers: Infinity War   8.5      Anthony Russo\n",
              "2  Avengers: Infinity War   8.5          Joe Russo"
            ]
          },
          "execution_count": 103,
          "metadata": {},
          "output_type": "execute_result"
        }
      ],
      "source": [
        "# Splitting 'Directors' column\n",
        "directors_split = movie['Directors'].str.split(',')\n",
        "Directors = directors_split.explode()\n",
        "\n",
        "# Creating Directors_df\n",
        "Directors_df = pd.merge(movie[['Title', 'IMDb']], Directors, left_index=True, right_index=True)\n",
        "Directors_df.head()"
      ]
    },
    {
      "cell_type": "code",
      "execution_count": 104,
      "metadata": {
        "id": "12Kqi4uWWqdE"
      },
      "outputs": [],
      "source": [
        "# Defining runtime categories\n",
        "bins = [0, 60, 120, 180, 300]  # (in minutes)\n",
        "labels = ['Short (<60 min)', 'Medium (60-120 min)', 'Long (120-180 min)', 'Very Long (>180 min)']\n",
        "movie['Runtime Category'] = pd.cut(movie['Runtime'], bins=bins, labels=labels, right=False)\n"
      ]
    },
    {
      "cell_type": "code",
      "execution_count": 106,
      "metadata": {
        "id": "cm1FQnxfWqXY"
      },
      "outputs": [
        {
          "data": {
            "text/html": [
              "<div>\n",
              "<style scoped>\n",
              "    .dataframe tbody tr th:only-of-type {\n",
              "        vertical-align: middle;\n",
              "    }\n",
              "\n",
              "    .dataframe tbody tr th {\n",
              "        vertical-align: top;\n",
              "    }\n",
              "\n",
              "    .dataframe thead th {\n",
              "        text-align: right;\n",
              "    }\n",
              "</style>\n",
              "<table border=\"1\" class=\"dataframe\">\n",
              "  <thead>\n",
              "    <tr style=\"text-align: right;\">\n",
              "      <th></th>\n",
              "      <th>ID</th>\n",
              "      <th>Title</th>\n",
              "      <th>Year</th>\n",
              "      <th>Age</th>\n",
              "      <th>IMDb</th>\n",
              "      <th>Rotten Tomatoes</th>\n",
              "      <th>Netflix</th>\n",
              "      <th>Hulu</th>\n",
              "      <th>Prime Video</th>\n",
              "      <th>Disney+</th>\n",
              "      <th>Type</th>\n",
              "      <th>Directors</th>\n",
              "      <th>Genres</th>\n",
              "      <th>Country</th>\n",
              "      <th>Language</th>\n",
              "      <th>Runtime</th>\n",
              "      <th>Runtime Category</th>\n",
              "    </tr>\n",
              "  </thead>\n",
              "  <tbody>\n",
              "    <tr>\n",
              "      <th>0</th>\n",
              "      <td>1</td>\n",
              "      <td>Inception</td>\n",
              "      <td>2010</td>\n",
              "      <td>13+</td>\n",
              "      <td>8.8</td>\n",
              "      <td>8.7</td>\n",
              "      <td>1</td>\n",
              "      <td>0</td>\n",
              "      <td>0</td>\n",
              "      <td>0</td>\n",
              "      <td>0</td>\n",
              "      <td>Christopher Nolan</td>\n",
              "      <td>Action,Adventure,Sci-Fi,Thriller</td>\n",
              "      <td>United States,United Kingdom</td>\n",
              "      <td>English,Japanese,French</td>\n",
              "      <td>148.000000</td>\n",
              "      <td>Long (120-180 min)</td>\n",
              "    </tr>\n",
              "    <tr>\n",
              "      <th>1</th>\n",
              "      <td>2</td>\n",
              "      <td>The Matrix</td>\n",
              "      <td>1999</td>\n",
              "      <td>18+</td>\n",
              "      <td>8.7</td>\n",
              "      <td>8.7</td>\n",
              "      <td>1</td>\n",
              "      <td>0</td>\n",
              "      <td>0</td>\n",
              "      <td>0</td>\n",
              "      <td>0</td>\n",
              "      <td>Lana Wachowski,Lilly Wachowski</td>\n",
              "      <td>Action,Sci-Fi</td>\n",
              "      <td>United States</td>\n",
              "      <td>English</td>\n",
              "      <td>136.000000</td>\n",
              "      <td>Long (120-180 min)</td>\n",
              "    </tr>\n",
              "    <tr>\n",
              "      <th>2</th>\n",
              "      <td>3</td>\n",
              "      <td>Avengers: Infinity War</td>\n",
              "      <td>2018</td>\n",
              "      <td>13+</td>\n",
              "      <td>8.5</td>\n",
              "      <td>8.4</td>\n",
              "      <td>1</td>\n",
              "      <td>0</td>\n",
              "      <td>0</td>\n",
              "      <td>0</td>\n",
              "      <td>0</td>\n",
              "      <td>Anthony Russo,Joe Russo</td>\n",
              "      <td>Action,Adventure,Sci-Fi</td>\n",
              "      <td>United States</td>\n",
              "      <td>English</td>\n",
              "      <td>149.000000</td>\n",
              "      <td>Long (120-180 min)</td>\n",
              "    </tr>\n",
              "    <tr>\n",
              "      <th>3</th>\n",
              "      <td>4</td>\n",
              "      <td>Back to the Future</td>\n",
              "      <td>1985</td>\n",
              "      <td>7+</td>\n",
              "      <td>8.5</td>\n",
              "      <td>9.6</td>\n",
              "      <td>1</td>\n",
              "      <td>0</td>\n",
              "      <td>0</td>\n",
              "      <td>0</td>\n",
              "      <td>0</td>\n",
              "      <td>Robert Zemeckis</td>\n",
              "      <td>Adventure,Comedy,Sci-Fi</td>\n",
              "      <td>United States</td>\n",
              "      <td>English</td>\n",
              "      <td>116.000000</td>\n",
              "      <td>Medium (60-120 min)</td>\n",
              "    </tr>\n",
              "    <tr>\n",
              "      <th>4</th>\n",
              "      <td>5</td>\n",
              "      <td>The Good, the Bad and the Ugly</td>\n",
              "      <td>1966</td>\n",
              "      <td>18+</td>\n",
              "      <td>8.8</td>\n",
              "      <td>9.7</td>\n",
              "      <td>1</td>\n",
              "      <td>0</td>\n",
              "      <td>1</td>\n",
              "      <td>0</td>\n",
              "      <td>0</td>\n",
              "      <td>Sergio Leone</td>\n",
              "      <td>Western</td>\n",
              "      <td>Italy,Spain,West Germany</td>\n",
              "      <td>Italian</td>\n",
              "      <td>161.000000</td>\n",
              "      <td>Long (120-180 min)</td>\n",
              "    </tr>\n",
              "    <tr>\n",
              "      <th>...</th>\n",
              "      <td>...</td>\n",
              "      <td>...</td>\n",
              "      <td>...</td>\n",
              "      <td>...</td>\n",
              "      <td>...</td>\n",
              "      <td>...</td>\n",
              "      <td>...</td>\n",
              "      <td>...</td>\n",
              "      <td>...</td>\n",
              "      <td>...</td>\n",
              "      <td>...</td>\n",
              "      <td>...</td>\n",
              "      <td>...</td>\n",
              "      <td>...</td>\n",
              "      <td>...</td>\n",
              "      <td>...</td>\n",
              "      <td>...</td>\n",
              "    </tr>\n",
              "    <tr>\n",
              "      <th>16739</th>\n",
              "      <td>16740</td>\n",
              "      <td>The Ghosts of Buxley Hall</td>\n",
              "      <td>1980</td>\n",
              "      <td>18+</td>\n",
              "      <td>6.2</td>\n",
              "      <td>6.5</td>\n",
              "      <td>0</td>\n",
              "      <td>0</td>\n",
              "      <td>0</td>\n",
              "      <td>1</td>\n",
              "      <td>0</td>\n",
              "      <td>Bruce Bilson</td>\n",
              "      <td>Comedy,Family,Fantasy,Horror</td>\n",
              "      <td>United States</td>\n",
              "      <td>English</td>\n",
              "      <td>120.000000</td>\n",
              "      <td>Long (120-180 min)</td>\n",
              "    </tr>\n",
              "    <tr>\n",
              "      <th>16740</th>\n",
              "      <td>16741</td>\n",
              "      <td>The Poof Point</td>\n",
              "      <td>2001</td>\n",
              "      <td>7+</td>\n",
              "      <td>4.7</td>\n",
              "      <td>6.5</td>\n",
              "      <td>0</td>\n",
              "      <td>0</td>\n",
              "      <td>0</td>\n",
              "      <td>1</td>\n",
              "      <td>0</td>\n",
              "      <td>Neal Israel</td>\n",
              "      <td>Comedy,Family,Sci-Fi</td>\n",
              "      <td>United States</td>\n",
              "      <td>English</td>\n",
              "      <td>90.000000</td>\n",
              "      <td>Medium (60-120 min)</td>\n",
              "    </tr>\n",
              "    <tr>\n",
              "      <th>16741</th>\n",
              "      <td>16742</td>\n",
              "      <td>Sharks of Lost Island</td>\n",
              "      <td>2013</td>\n",
              "      <td>18+</td>\n",
              "      <td>5.7</td>\n",
              "      <td>6.5</td>\n",
              "      <td>0</td>\n",
              "      <td>0</td>\n",
              "      <td>0</td>\n",
              "      <td>1</td>\n",
              "      <td>0</td>\n",
              "      <td>Neil Gelinas</td>\n",
              "      <td>Documentary</td>\n",
              "      <td>United States</td>\n",
              "      <td>English</td>\n",
              "      <td>93.413447</td>\n",
              "      <td>Medium (60-120 min)</td>\n",
              "    </tr>\n",
              "    <tr>\n",
              "      <th>16742</th>\n",
              "      <td>16743</td>\n",
              "      <td>Man Among Cheetahs</td>\n",
              "      <td>2017</td>\n",
              "      <td>18+</td>\n",
              "      <td>6.6</td>\n",
              "      <td>6.5</td>\n",
              "      <td>0</td>\n",
              "      <td>0</td>\n",
              "      <td>0</td>\n",
              "      <td>1</td>\n",
              "      <td>0</td>\n",
              "      <td>Richard Slater-Jones</td>\n",
              "      <td>Documentary</td>\n",
              "      <td>United States</td>\n",
              "      <td>English</td>\n",
              "      <td>93.413447</td>\n",
              "      <td>Medium (60-120 min)</td>\n",
              "    </tr>\n",
              "    <tr>\n",
              "      <th>16743</th>\n",
              "      <td>16744</td>\n",
              "      <td>In Beaver Valley</td>\n",
              "      <td>1950</td>\n",
              "      <td>18+</td>\n",
              "      <td>5.9</td>\n",
              "      <td>6.5</td>\n",
              "      <td>0</td>\n",
              "      <td>0</td>\n",
              "      <td>0</td>\n",
              "      <td>1</td>\n",
              "      <td>0</td>\n",
              "      <td>James Algar</td>\n",
              "      <td>Documentary,Short,Family</td>\n",
              "      <td>United States</td>\n",
              "      <td>English</td>\n",
              "      <td>32.000000</td>\n",
              "      <td>Short (&lt;60 min)</td>\n",
              "    </tr>\n",
              "  </tbody>\n",
              "</table>\n",
              "<p>16744 rows × 17 columns</p>\n",
              "</div>"
            ],
            "text/plain": [
              "          ID                           Title  Year  Age  IMDb  \\\n",
              "0          1                       Inception  2010  13+   8.8   \n",
              "1          2                      The Matrix  1999  18+   8.7   \n",
              "2          3          Avengers: Infinity War  2018  13+   8.5   \n",
              "3          4              Back to the Future  1985   7+   8.5   \n",
              "4          5  The Good, the Bad and the Ugly  1966  18+   8.8   \n",
              "...      ...                             ...   ...  ...   ...   \n",
              "16739  16740       The Ghosts of Buxley Hall  1980  18+   6.2   \n",
              "16740  16741                  The Poof Point  2001   7+   4.7   \n",
              "16741  16742           Sharks of Lost Island  2013  18+   5.7   \n",
              "16742  16743              Man Among Cheetahs  2017  18+   6.6   \n",
              "16743  16744                In Beaver Valley  1950  18+   5.9   \n",
              "\n",
              "       Rotten Tomatoes  Netflix  Hulu  Prime Video  Disney+  Type  \\\n",
              "0                  8.7        1     0            0        0     0   \n",
              "1                  8.7        1     0            0        0     0   \n",
              "2                  8.4        1     0            0        0     0   \n",
              "3                  9.6        1     0            0        0     0   \n",
              "4                  9.7        1     0            1        0     0   \n",
              "...                ...      ...   ...          ...      ...   ...   \n",
              "16739              6.5        0     0            0        1     0   \n",
              "16740              6.5        0     0            0        1     0   \n",
              "16741              6.5        0     0            0        1     0   \n",
              "16742              6.5        0     0            0        1     0   \n",
              "16743              6.5        0     0            0        1     0   \n",
              "\n",
              "                            Directors                            Genres  \\\n",
              "0                   Christopher Nolan  Action,Adventure,Sci-Fi,Thriller   \n",
              "1      Lana Wachowski,Lilly Wachowski                     Action,Sci-Fi   \n",
              "2             Anthony Russo,Joe Russo           Action,Adventure,Sci-Fi   \n",
              "3                     Robert Zemeckis           Adventure,Comedy,Sci-Fi   \n",
              "4                        Sergio Leone                           Western   \n",
              "...                               ...                               ...   \n",
              "16739                    Bruce Bilson      Comedy,Family,Fantasy,Horror   \n",
              "16740                     Neal Israel              Comedy,Family,Sci-Fi   \n",
              "16741                    Neil Gelinas                       Documentary   \n",
              "16742            Richard Slater-Jones                       Documentary   \n",
              "16743                     James Algar          Documentary,Short,Family   \n",
              "\n",
              "                            Country                 Language     Runtime  \\\n",
              "0      United States,United Kingdom  English,Japanese,French  148.000000   \n",
              "1                     United States                  English  136.000000   \n",
              "2                     United States                  English  149.000000   \n",
              "3                     United States                  English  116.000000   \n",
              "4          Italy,Spain,West Germany                  Italian  161.000000   \n",
              "...                             ...                      ...         ...   \n",
              "16739                 United States                  English  120.000000   \n",
              "16740                 United States                  English   90.000000   \n",
              "16741                 United States                  English   93.413447   \n",
              "16742                 United States                  English   93.413447   \n",
              "16743                 United States                  English   32.000000   \n",
              "\n",
              "          Runtime Category  \n",
              "0       Long (120-180 min)  \n",
              "1       Long (120-180 min)  \n",
              "2       Long (120-180 min)  \n",
              "3      Medium (60-120 min)  \n",
              "4       Long (120-180 min)  \n",
              "...                    ...  \n",
              "16739   Long (120-180 min)  \n",
              "16740  Medium (60-120 min)  \n",
              "16741  Medium (60-120 min)  \n",
              "16742  Medium (60-120 min)  \n",
              "16743      Short (<60 min)  \n",
              "\n",
              "[16744 rows x 17 columns]"
            ]
          },
          "execution_count": 106,
          "metadata": {},
          "output_type": "execute_result"
        }
      ],
      "source": [
        "movie"
      ]
    },
    {
      "cell_type": "markdown",
      "metadata": {},
      "source": [
        "# DATA ANALYSIS"
      ]
    },
    {
      "cell_type": "markdown",
      "metadata": {},
      "source": [
        "# How many unique movies are in the dataset?\n",
        "# What is the average IMDb rating of all movies?\n",
        "# How many movies were released each year?\n",
        "# What is the most common genre in the dataset?\n",
        "# What is the most common language for movies?\n",
        "\n",
        "# How many movies are available on each streaming platform?\n",
        "# Which platform has the highest average IMDb rating?\n",
        "# Are there any movies available on all four platforms (Netflix, Hulu, Prime Video, Disney+)?\n",
        "# Which platform has the most movies with an IMDb rating above 8.0?\n",
        "# Which platform has the most movies released after 2015?\n",
        "\n",
        "# What are the top 5 genres with the most movies?\n",
        "# Which genre has the highest average IMDb rating?\n",
        "# What is the most popular genre on Netflix?\n",
        "# How many movies in the Comedy genre have an IMDb rating above 7.5?\n",
        "# What is the average IMDb rating for Horror movies?\n",
        "\n",
        "# Who are the top 5 directors with the most movies in the dataset?\n",
        "# Which director has the highest average IMDb rating?\n",
        "# Which director has made the most Action movies?\n",
        "# What is the average IMDb rating of movies directed by Christopher Nolan?\n",
        "# How many movies by Steven Spielberg are available on Prime Video?\n",
        "\n",
        "# What are the top 5 most common languages in the dataset?\n",
        "# What is the average IMDb rating of French movies?\n",
        "# How many movies are from the United States?\n",
        "# Which country has produced the most Drama movies?\n",
        "# What is the most common language for movies on Hulu?\n",
        "# IMDb and Rotten Tomatoes Score Analysis\n",
        "# What is the highest IMDb rating in the dataset, and which movie has it?\n",
        "# What is the lowest Rotten Tomatoes score, and which movie has it?\n",
        "# What is the correlation between IMDb ratings and Rotten Tomatoes scores?\n",
        "# How many movies have both IMDb rating above 8.0 and Rotten Tomatoes score above 90%?\n",
        "# Which platform has the highest average Rotten Tomatoes score?\n",
        "\n",
        "# What is the average runtime of all movies?\n",
        "# Which movie has the longest runtime?\n",
        "# Which genre tends to have the longest runtime on average?\n",
        "# How many movies have a runtime of less than 60 minutes?\n",
        "# What is the average IMDb rating for movies with a runtime above 150 minutes?"
      ]
    },
    {
      "cell_type": "markdown",
      "metadata": {},
      "source": []
    },
    {
      "cell_type": "markdown",
      "metadata": {},
      "source": []
    },
    {
      "cell_type": "markdown",
      "metadata": {},
      "source": []
    },
    {
      "cell_type": "markdown",
      "metadata": {},
      "source": []
    },
    {
      "cell_type": "markdown",
      "metadata": {},
      "source": []
    },
    {
      "cell_type": "markdown",
      "metadata": {},
      "source": []
    },
    {
      "cell_type": "markdown",
      "metadata": {},
      "source": []
    },
    {
      "cell_type": "markdown",
      "metadata": {},
      "source": []
    },
    {
      "cell_type": "markdown",
      "metadata": {},
      "source": []
    },
    {
      "cell_type": "markdown",
      "metadata": {},
      "source": []
    },
    {
      "cell_type": "markdown",
      "metadata": {},
      "source": []
    },
    {
      "cell_type": "markdown",
      "metadata": {},
      "source": []
    },
    {
      "cell_type": "markdown",
      "metadata": {},
      "source": []
    },
    {
      "cell_type": "markdown",
      "metadata": {},
      "source": []
    },
    {
      "cell_type": "markdown",
      "metadata": {},
      "source": []
    },
    {
      "cell_type": "markdown",
      "metadata": {},
      "source": []
    },
    {
      "cell_type": "markdown",
      "metadata": {},
      "source": []
    },
    {
      "cell_type": "markdown",
      "metadata": {},
      "source": []
    },
    {
      "cell_type": "markdown",
      "metadata": {},
      "source": []
    },
    {
      "cell_type": "markdown",
      "metadata": {},
      "source": []
    }
  ],
  "metadata": {
    "colab": {
      "provenance": []
    },
    "kernelspec": {
      "display_name": "Python 3",
      "name": "python3"
    },
    "language_info": {
      "codemirror_mode": {
        "name": "ipython",
        "version": 3
      },
      "file_extension": ".py",
      "mimetype": "text/x-python",
      "name": "python",
      "nbconvert_exporter": "python",
      "pygments_lexer": "ipython3",
      "version": "3.11.0"
    }
  },
  "nbformat": 4,
  "nbformat_minor": 0
}
