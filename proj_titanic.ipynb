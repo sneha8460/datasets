{
  "cells": [
    {
      "cell_type": "code",
      "execution_count": 166,
      "metadata": {
        "id": "nrTbXyvg4ofs"
      },
      "outputs": [],
      "source": [
        "import pandas as pd"
      ]
    },
    {
      "cell_type": "markdown",
      "metadata": {
        "id": "zGztvlIG5w9Q"
      },
      "source": [
        "get the titanic dataset"
      ]
    },
    {
      "cell_type": "code",
      "execution_count": 167,
      "metadata": {
        "id": "1eaicaj-4trl"
      },
      "outputs": [],
      "source": [
        "url='https://raw.githubusercontent.com/rajeevratan84/datascienceforbusiness/refs/heads/master/titanic.csv'\n",
        "\n",
        "df=pd.read_csv(url)"
      ]
    },
    {
      "cell_type": "markdown",
      "metadata": {
        "id": "UdAq8Tjy50Qu"
      },
      "source": [
        "display the titanic dataset"
      ]
    },
    {
      "cell_type": "code",
      "execution_count": 168,
      "metadata": {
        "colab": {
          "base_uri": "https://localhost:8080/",
          "height": 808
        },
        "id": "U04_A25Z5LKE",
        "outputId": "17fea355-c2f0-42ef-f468-47ac91de7ef2"
      },
      "outputs": [
        {
          "data": {
            "text/html": [
              "<div>\n",
              "<style scoped>\n",
              "    .dataframe tbody tr th:only-of-type {\n",
              "        vertical-align: middle;\n",
              "    }\n",
              "\n",
              "    .dataframe tbody tr th {\n",
              "        vertical-align: top;\n",
              "    }\n",
              "\n",
              "    .dataframe thead th {\n",
              "        text-align: right;\n",
              "    }\n",
              "</style>\n",
              "<table border=\"1\" class=\"dataframe\">\n",
              "  <thead>\n",
              "    <tr style=\"text-align: right;\">\n",
              "      <th></th>\n",
              "      <th>pclass</th>\n",
              "      <th>name</th>\n",
              "      <th>sex</th>\n",
              "      <th>age</th>\n",
              "      <th>sibsp</th>\n",
              "      <th>parch</th>\n",
              "      <th>ticket</th>\n",
              "      <th>fare</th>\n",
              "      <th>cabin</th>\n",
              "      <th>embarked</th>\n",
              "      <th>survived</th>\n",
              "    </tr>\n",
              "  </thead>\n",
              "  <tbody>\n",
              "    <tr>\n",
              "      <th>0</th>\n",
              "      <td>1</td>\n",
              "      <td>Allen, Miss. Elisabeth Walton</td>\n",
              "      <td>female</td>\n",
              "      <td>29.0000</td>\n",
              "      <td>0</td>\n",
              "      <td>0</td>\n",
              "      <td>24160</td>\n",
              "      <td>211.3375</td>\n",
              "      <td>B5</td>\n",
              "      <td>S</td>\n",
              "      <td>1</td>\n",
              "    </tr>\n",
              "    <tr>\n",
              "      <th>1</th>\n",
              "      <td>1</td>\n",
              "      <td>Allison, Master. Hudson Trevor</td>\n",
              "      <td>male</td>\n",
              "      <td>0.9167</td>\n",
              "      <td>1</td>\n",
              "      <td>2</td>\n",
              "      <td>113781</td>\n",
              "      <td>151.5500</td>\n",
              "      <td>C22 C26</td>\n",
              "      <td>S</td>\n",
              "      <td>1</td>\n",
              "    </tr>\n",
              "    <tr>\n",
              "      <th>2</th>\n",
              "      <td>1</td>\n",
              "      <td>Allison, Miss. Helen Loraine</td>\n",
              "      <td>female</td>\n",
              "      <td>2.0000</td>\n",
              "      <td>1</td>\n",
              "      <td>2</td>\n",
              "      <td>113781</td>\n",
              "      <td>151.5500</td>\n",
              "      <td>C22 C26</td>\n",
              "      <td>S</td>\n",
              "      <td>0</td>\n",
              "    </tr>\n",
              "    <tr>\n",
              "      <th>3</th>\n",
              "      <td>1</td>\n",
              "      <td>Allison, Mr. Hudson Joshua Creighton</td>\n",
              "      <td>male</td>\n",
              "      <td>30.0000</td>\n",
              "      <td>1</td>\n",
              "      <td>2</td>\n",
              "      <td>113781</td>\n",
              "      <td>151.5500</td>\n",
              "      <td>C22 C26</td>\n",
              "      <td>S</td>\n",
              "      <td>0</td>\n",
              "    </tr>\n",
              "    <tr>\n",
              "      <th>4</th>\n",
              "      <td>1</td>\n",
              "      <td>Allison, Mrs. Hudson J C (Bessie Waldo Daniels)</td>\n",
              "      <td>female</td>\n",
              "      <td>25.0000</td>\n",
              "      <td>1</td>\n",
              "      <td>2</td>\n",
              "      <td>113781</td>\n",
              "      <td>151.5500</td>\n",
              "      <td>C22 C26</td>\n",
              "      <td>S</td>\n",
              "      <td>0</td>\n",
              "    </tr>\n",
              "    <tr>\n",
              "      <th>...</th>\n",
              "      <td>...</td>\n",
              "      <td>...</td>\n",
              "      <td>...</td>\n",
              "      <td>...</td>\n",
              "      <td>...</td>\n",
              "      <td>...</td>\n",
              "      <td>...</td>\n",
              "      <td>...</td>\n",
              "      <td>...</td>\n",
              "      <td>...</td>\n",
              "      <td>...</td>\n",
              "    </tr>\n",
              "    <tr>\n",
              "      <th>1304</th>\n",
              "      <td>3</td>\n",
              "      <td>Zabour, Miss. Hileni</td>\n",
              "      <td>female</td>\n",
              "      <td>14.5000</td>\n",
              "      <td>1</td>\n",
              "      <td>0</td>\n",
              "      <td>2665</td>\n",
              "      <td>14.4542</td>\n",
              "      <td>NaN</td>\n",
              "      <td>C</td>\n",
              "      <td>0</td>\n",
              "    </tr>\n",
              "    <tr>\n",
              "      <th>1305</th>\n",
              "      <td>3</td>\n",
              "      <td>Zabour, Miss. Thamine</td>\n",
              "      <td>female</td>\n",
              "      <td>NaN</td>\n",
              "      <td>1</td>\n",
              "      <td>0</td>\n",
              "      <td>2665</td>\n",
              "      <td>14.4542</td>\n",
              "      <td>NaN</td>\n",
              "      <td>C</td>\n",
              "      <td>0</td>\n",
              "    </tr>\n",
              "    <tr>\n",
              "      <th>1306</th>\n",
              "      <td>3</td>\n",
              "      <td>Zakarian, Mr. Mapriededer</td>\n",
              "      <td>male</td>\n",
              "      <td>26.5000</td>\n",
              "      <td>0</td>\n",
              "      <td>0</td>\n",
              "      <td>2656</td>\n",
              "      <td>7.2250</td>\n",
              "      <td>NaN</td>\n",
              "      <td>C</td>\n",
              "      <td>0</td>\n",
              "    </tr>\n",
              "    <tr>\n",
              "      <th>1307</th>\n",
              "      <td>3</td>\n",
              "      <td>Zakarian, Mr. Ortin</td>\n",
              "      <td>male</td>\n",
              "      <td>27.0000</td>\n",
              "      <td>0</td>\n",
              "      <td>0</td>\n",
              "      <td>2670</td>\n",
              "      <td>7.2250</td>\n",
              "      <td>NaN</td>\n",
              "      <td>C</td>\n",
              "      <td>0</td>\n",
              "    </tr>\n",
              "    <tr>\n",
              "      <th>1308</th>\n",
              "      <td>3</td>\n",
              "      <td>Zimmerman, Mr. Leo</td>\n",
              "      <td>male</td>\n",
              "      <td>29.0000</td>\n",
              "      <td>0</td>\n",
              "      <td>0</td>\n",
              "      <td>315082</td>\n",
              "      <td>7.8750</td>\n",
              "      <td>NaN</td>\n",
              "      <td>S</td>\n",
              "      <td>0</td>\n",
              "    </tr>\n",
              "  </tbody>\n",
              "</table>\n",
              "<p>1309 rows × 11 columns</p>\n",
              "</div>"
            ],
            "text/plain": [
              "      pclass                                             name     sex  \\\n",
              "0          1                    Allen, Miss. Elisabeth Walton  female   \n",
              "1          1                   Allison, Master. Hudson Trevor    male   \n",
              "2          1                     Allison, Miss. Helen Loraine  female   \n",
              "3          1             Allison, Mr. Hudson Joshua Creighton    male   \n",
              "4          1  Allison, Mrs. Hudson J C (Bessie Waldo Daniels)  female   \n",
              "...      ...                                              ...     ...   \n",
              "1304       3                             Zabour, Miss. Hileni  female   \n",
              "1305       3                            Zabour, Miss. Thamine  female   \n",
              "1306       3                        Zakarian, Mr. Mapriededer    male   \n",
              "1307       3                              Zakarian, Mr. Ortin    male   \n",
              "1308       3                               Zimmerman, Mr. Leo    male   \n",
              "\n",
              "          age  sibsp  parch  ticket      fare    cabin embarked  survived  \n",
              "0     29.0000      0      0   24160  211.3375       B5        S         1  \n",
              "1      0.9167      1      2  113781  151.5500  C22 C26        S         1  \n",
              "2      2.0000      1      2  113781  151.5500  C22 C26        S         0  \n",
              "3     30.0000      1      2  113781  151.5500  C22 C26        S         0  \n",
              "4     25.0000      1      2  113781  151.5500  C22 C26        S         0  \n",
              "...       ...    ...    ...     ...       ...      ...      ...       ...  \n",
              "1304  14.5000      1      0    2665   14.4542      NaN        C         0  \n",
              "1305      NaN      1      0    2665   14.4542      NaN        C         0  \n",
              "1306  26.5000      0      0    2656    7.2250      NaN        C         0  \n",
              "1307  27.0000      0      0    2670    7.2250      NaN        C         0  \n",
              "1308  29.0000      0      0  315082    7.8750      NaN        S         0  \n",
              "\n",
              "[1309 rows x 11 columns]"
            ]
          },
          "execution_count": 168,
          "metadata": {},
          "output_type": "execute_result"
        }
      ],
      "source": [
        "df"
      ]
    },
    {
      "cell_type": "markdown",
      "metadata": {
        "id": "WmWFv40V5_go"
      },
      "source": [
        "get the column names of titanic dataset"
      ]
    },
    {
      "cell_type": "markdown",
      "metadata": {
        "id": "FqNcj2OVDvUY"
      },
      "source": [
        "# UNDERSTANDING THE DATASET"
      ]
    },
    {
      "cell_type": "code",
      "execution_count": 169,
      "metadata": {
        "colab": {
          "base_uri": "https://localhost:8080/"
        },
        "id": "CcDayo9R5N6D",
        "outputId": "b6350568-0ed3-4991-e3cc-bfceb3128a3f"
      },
      "outputs": [
        {
          "data": {
            "text/plain": [
              "Index(['pclass', 'name', 'sex', 'age', 'sibsp', 'parch', 'ticket', 'fare',\n",
              "       'cabin', 'embarked', 'survived'],\n",
              "      dtype='object')"
            ]
          },
          "execution_count": 169,
          "metadata": {},
          "output_type": "execute_result"
        }
      ],
      "source": [
        "df.columns"
      ]
    },
    {
      "cell_type": "markdown",
      "metadata": {
        "id": "Cvw0E_J_6T_a"
      },
      "source": [
        "get the information of each column"
      ]
    },
    {
      "cell_type": "code",
      "execution_count": 170,
      "metadata": {
        "colab": {
          "base_uri": "https://localhost:8080/"
        },
        "id": "XHYc1fuq6GUk",
        "outputId": "d5e1b079-a43f-4c05-9174-0e0a49a4849b"
      },
      "outputs": [
        {
          "name": "stdout",
          "output_type": "stream",
          "text": [
            "<class 'pandas.core.frame.DataFrame'>\n",
            "RangeIndex: 1309 entries, 0 to 1308\n",
            "Data columns (total 11 columns):\n",
            " #   Column    Non-Null Count  Dtype  \n",
            "---  ------    --------------  -----  \n",
            " 0   pclass    1309 non-null   int64  \n",
            " 1   name      1309 non-null   object \n",
            " 2   sex       1309 non-null   object \n",
            " 3   age       1046 non-null   float64\n",
            " 4   sibsp     1309 non-null   int64  \n",
            " 5   parch     1309 non-null   int64  \n",
            " 6   ticket    1309 non-null   object \n",
            " 7   fare      1308 non-null   float64\n",
            " 8   cabin     295 non-null    object \n",
            " 9   embarked  1307 non-null   object \n",
            " 10  survived  1309 non-null   int64  \n",
            "dtypes: float64(2), int64(4), object(5)\n",
            "memory usage: 112.6+ KB\n"
          ]
        }
      ],
      "source": [
        "df.info()"
      ]
    },
    {
      "cell_type": "markdown",
      "metadata": {
        "id": "2WBCq0pc6hCJ"
      },
      "source": [
        "observation: columns like age,fare,cabin,embarked are having missing values.\n",
        "All columns are having valid dtype(data type)"
      ]
    },
    {
      "cell_type": "markdown",
      "metadata": {
        "id": "yz9wcZtcD2qI"
      },
      "source": [
        "# DATA CLEANING"
      ]
    },
    {
      "cell_type": "code",
      "execution_count": 171,
      "metadata": {
        "id": "-_x87cWzEtCf"
      },
      "outputs": [],
      "source": [
        "# age  column has to be filled with mean\n",
        "age_mean=df['age'].mean()\n",
        "# fare column has to be filled with mean\n",
        "fare_mean=df['fare'].mean()\n",
        "# embarked  column has to be filled with mode   or ('unknown)\n",
        "embarked_mode=df['embarked'].mode()[0]"
      ]
    },
    {
      "cell_type": "code",
      "execution_count": 172,
      "metadata": {
        "id": "cbe2RX8UEsyM"
      },
      "outputs": [],
      "source": [
        "# fillna() -- used to fill the missing values (None,NaN)\n",
        "\n",
        "df['age']=df['age'].fillna(age_mean)\n",
        "df['fare']=df['fare'].fillna(fare_mean)\n",
        "df['embarked']=df['embarked'].fillna(embarked_mode)"
      ]
    },
    {
      "cell_type": "code",
      "execution_count": 173,
      "metadata": {
        "id": "HwlQuMGIEr_T"
      },
      "outputs": [],
      "source": [
        "# cabin column which has null values has to be removed from dataset\n",
        "#-------------------------------------------------------------------\n",
        "# dropna()\n",
        "# auto detects the rows and columns which are having missing values and removes them\n",
        "# axis=0 (remove the rows which are having missing values)\n",
        "# axis=1 (remove the columns which are having missing values)\n",
        "\n",
        "df=df.dropna(axis=1)"
      ]
    },
    {
      "cell_type": "code",
      "execution_count": 174,
      "metadata": {
        "id": "nNI8D14JNq10"
      },
      "outputs": [],
      "source": [
        "# convert the fare column dtype\n",
        "#-----------------------------------------\n",
        "# astype() - used to convert dtype of columns\n",
        "#          - we have to pass dict -- {'col':dtype , 'col':dtype ,...........}\n",
        "\n",
        "df=df.astype({'fare':int})"
      ]
    },
    {
      "cell_type": "markdown",
      "metadata": {
        "id": "ttfULgHUD5N0"
      },
      "source": [
        "# DATA TRANSFORMATION"
      ]
    },
    {
      "cell_type": "code",
      "execution_count": 175,
      "metadata": {
        "colab": {
          "base_uri": "https://localhost:8080/",
          "height": 236
        },
        "id": "3AEH7pUvO4xM",
        "outputId": "a7f04069-dc29-495f-b7ec-20a83957afc1"
      },
      "outputs": [
        {
          "data": {
            "text/html": [
              "<div>\n",
              "<style scoped>\n",
              "    .dataframe tbody tr th:only-of-type {\n",
              "        vertical-align: middle;\n",
              "    }\n",
              "\n",
              "    .dataframe tbody tr th {\n",
              "        vertical-align: top;\n",
              "    }\n",
              "\n",
              "    .dataframe thead th {\n",
              "        text-align: right;\n",
              "    }\n",
              "</style>\n",
              "<table border=\"1\" class=\"dataframe\">\n",
              "  <thead>\n",
              "    <tr style=\"text-align: right;\">\n",
              "      <th></th>\n",
              "      <th>pclass</th>\n",
              "      <th>name</th>\n",
              "      <th>sex</th>\n",
              "      <th>age</th>\n",
              "      <th>sibsp</th>\n",
              "      <th>parch</th>\n",
              "      <th>ticket</th>\n",
              "      <th>fare</th>\n",
              "      <th>embarked</th>\n",
              "      <th>survived</th>\n",
              "    </tr>\n",
              "  </thead>\n",
              "  <tbody>\n",
              "    <tr>\n",
              "      <th>0</th>\n",
              "      <td>1</td>\n",
              "      <td>Allen, Miss. Elisabeth Walton</td>\n",
              "      <td>female</td>\n",
              "      <td>29.0000</td>\n",
              "      <td>0</td>\n",
              "      <td>0</td>\n",
              "      <td>24160</td>\n",
              "      <td>211</td>\n",
              "      <td>S</td>\n",
              "      <td>1</td>\n",
              "    </tr>\n",
              "    <tr>\n",
              "      <th>1</th>\n",
              "      <td>1</td>\n",
              "      <td>Allison, Master. Hudson Trevor</td>\n",
              "      <td>male</td>\n",
              "      <td>0.9167</td>\n",
              "      <td>1</td>\n",
              "      <td>2</td>\n",
              "      <td>113781</td>\n",
              "      <td>151</td>\n",
              "      <td>S</td>\n",
              "      <td>1</td>\n",
              "    </tr>\n",
              "  </tbody>\n",
              "</table>\n",
              "</div>"
            ],
            "text/plain": [
              "   pclass                            name     sex      age  sibsp  parch  \\\n",
              "0       1   Allen, Miss. Elisabeth Walton  female  29.0000      0      0   \n",
              "1       1  Allison, Master. Hudson Trevor    male   0.9167      1      2   \n",
              "\n",
              "   ticket  fare embarked  survived  \n",
              "0   24160   211        S         1  \n",
              "1  113781   151        S         1  "
            ]
          },
          "execution_count": 175,
          "metadata": {},
          "output_type": "execute_result"
        }
      ],
      "source": [
        "df.head(2)"
      ]
    },
    {
      "cell_type": "code",
      "execution_count": 176,
      "metadata": {
        "id": "JVsjjQ71POfz"
      },
      "outputs": [],
      "source": [
        "# df['name'].str.split(',',n=1) # list of elements\n",
        "\n",
        "temp=df['name'].str.split(',',n=1,expand=True) # list has been converted to columns\n",
        "last_name=temp[0]\n",
        "t_fname=temp[1]\n",
        "courtesy_title=t_fname.str.split('.',n=1,expand=True)[0]\n",
        "first_name=t_fname.str.split('.',n=1,expand=True)[1]\n",
        "# last_name , courtesy_title , first_name (series)"
      ]
    },
    {
      "cell_type": "code",
      "execution_count": 177,
      "metadata": {
        "id": "UrAkOWcXT2D6"
      },
      "outputs": [],
      "source": [
        "# creating new columns\n",
        "df['courtesy_title']=courtesy_title\n",
        "df['lname']=last_name\n",
        "df['fname']=first_name"
      ]
    },
    {
      "cell_type": "code",
      "execution_count": 178,
      "metadata": {
        "colab": {
          "base_uri": "https://localhost:8080/",
          "height": 236
        },
        "id": "D9NKi_hyUIoz",
        "outputId": "29b60d55-d114-41fd-a455-b994cbc901bd"
      },
      "outputs": [
        {
          "data": {
            "text/html": [
              "<div>\n",
              "<style scoped>\n",
              "    .dataframe tbody tr th:only-of-type {\n",
              "        vertical-align: middle;\n",
              "    }\n",
              "\n",
              "    .dataframe tbody tr th {\n",
              "        vertical-align: top;\n",
              "    }\n",
              "\n",
              "    .dataframe thead th {\n",
              "        text-align: right;\n",
              "    }\n",
              "</style>\n",
              "<table border=\"1\" class=\"dataframe\">\n",
              "  <thead>\n",
              "    <tr style=\"text-align: right;\">\n",
              "      <th></th>\n",
              "      <th>pclass</th>\n",
              "      <th>name</th>\n",
              "      <th>sex</th>\n",
              "      <th>age</th>\n",
              "      <th>sibsp</th>\n",
              "      <th>parch</th>\n",
              "      <th>ticket</th>\n",
              "      <th>fare</th>\n",
              "      <th>embarked</th>\n",
              "      <th>survived</th>\n",
              "      <th>courtesy_title</th>\n",
              "      <th>lname</th>\n",
              "      <th>fname</th>\n",
              "    </tr>\n",
              "  </thead>\n",
              "  <tbody>\n",
              "    <tr>\n",
              "      <th>0</th>\n",
              "      <td>1</td>\n",
              "      <td>Allen, Miss. Elisabeth Walton</td>\n",
              "      <td>female</td>\n",
              "      <td>29.0000</td>\n",
              "      <td>0</td>\n",
              "      <td>0</td>\n",
              "      <td>24160</td>\n",
              "      <td>211</td>\n",
              "      <td>S</td>\n",
              "      <td>1</td>\n",
              "      <td>Miss</td>\n",
              "      <td>Allen</td>\n",
              "      <td>Elisabeth Walton</td>\n",
              "    </tr>\n",
              "    <tr>\n",
              "      <th>1</th>\n",
              "      <td>1</td>\n",
              "      <td>Allison, Master. Hudson Trevor</td>\n",
              "      <td>male</td>\n",
              "      <td>0.9167</td>\n",
              "      <td>1</td>\n",
              "      <td>2</td>\n",
              "      <td>113781</td>\n",
              "      <td>151</td>\n",
              "      <td>S</td>\n",
              "      <td>1</td>\n",
              "      <td>Master</td>\n",
              "      <td>Allison</td>\n",
              "      <td>Hudson Trevor</td>\n",
              "    </tr>\n",
              "  </tbody>\n",
              "</table>\n",
              "</div>"
            ],
            "text/plain": [
              "   pclass                            name     sex      age  sibsp  parch  \\\n",
              "0       1   Allen, Miss. Elisabeth Walton  female  29.0000      0      0   \n",
              "1       1  Allison, Master. Hudson Trevor    male   0.9167      1      2   \n",
              "\n",
              "   ticket  fare embarked  survived courtesy_title    lname              fname  \n",
              "0   24160   211        S         1           Miss    Allen   Elisabeth Walton  \n",
              "1  113781   151        S         1         Master  Allison      Hudson Trevor  "
            ]
          },
          "execution_count": 178,
          "metadata": {},
          "output_type": "execute_result"
        }
      ],
      "source": [
        "df.head(2)"
      ]
    },
    {
      "cell_type": "code",
      "execution_count": 179,
      "metadata": {
        "id": "vwpMPHlAV6xC"
      },
      "outputs": [],
      "source": [
        "df=df.drop(columns=['name'])\n",
        "# drop() -- used to remove the rows/records\n",
        "# index=[indices of row]\n",
        "# columns=[names of column]"
      ]
    },
    {
      "cell_type": "code",
      "execution_count": 180,
      "metadata": {
        "colab": {
          "base_uri": "https://localhost:8080/",
          "height": 167
        },
        "id": "KclgmFHMWGK-",
        "outputId": "9735cce5-08eb-4037-9341-7ff4de161683"
      },
      "outputs": [
        {
          "data": {
            "text/html": [
              "<div>\n",
              "<style scoped>\n",
              "    .dataframe tbody tr th:only-of-type {\n",
              "        vertical-align: middle;\n",
              "    }\n",
              "\n",
              "    .dataframe tbody tr th {\n",
              "        vertical-align: top;\n",
              "    }\n",
              "\n",
              "    .dataframe thead th {\n",
              "        text-align: right;\n",
              "    }\n",
              "</style>\n",
              "<table border=\"1\" class=\"dataframe\">\n",
              "  <thead>\n",
              "    <tr style=\"text-align: right;\">\n",
              "      <th></th>\n",
              "      <th>pclass</th>\n",
              "      <th>sex</th>\n",
              "      <th>age</th>\n",
              "      <th>sibsp</th>\n",
              "      <th>parch</th>\n",
              "      <th>ticket</th>\n",
              "      <th>fare</th>\n",
              "      <th>embarked</th>\n",
              "      <th>survived</th>\n",
              "      <th>courtesy_title</th>\n",
              "      <th>lname</th>\n",
              "      <th>fname</th>\n",
              "    </tr>\n",
              "  </thead>\n",
              "  <tbody>\n",
              "    <tr>\n",
              "      <th>0</th>\n",
              "      <td>1</td>\n",
              "      <td>female</td>\n",
              "      <td>29.0000</td>\n",
              "      <td>0</td>\n",
              "      <td>0</td>\n",
              "      <td>24160</td>\n",
              "      <td>211</td>\n",
              "      <td>S</td>\n",
              "      <td>1</td>\n",
              "      <td>Miss</td>\n",
              "      <td>Allen</td>\n",
              "      <td>Elisabeth Walton</td>\n",
              "    </tr>\n",
              "    <tr>\n",
              "      <th>1</th>\n",
              "      <td>1</td>\n",
              "      <td>male</td>\n",
              "      <td>0.9167</td>\n",
              "      <td>1</td>\n",
              "      <td>2</td>\n",
              "      <td>113781</td>\n",
              "      <td>151</td>\n",
              "      <td>S</td>\n",
              "      <td>1</td>\n",
              "      <td>Master</td>\n",
              "      <td>Allison</td>\n",
              "      <td>Hudson Trevor</td>\n",
              "    </tr>\n",
              "  </tbody>\n",
              "</table>\n",
              "</div>"
            ],
            "text/plain": [
              "   pclass     sex      age  sibsp  parch  ticket  fare embarked  survived  \\\n",
              "0       1  female  29.0000      0      0   24160   211        S         1   \n",
              "1       1    male   0.9167      1      2  113781   151        S         1   \n",
              "\n",
              "  courtesy_title    lname              fname  \n",
              "0           Miss    Allen   Elisabeth Walton  \n",
              "1         Master  Allison      Hudson Trevor  "
            ]
          },
          "execution_count": 180,
          "metadata": {},
          "output_type": "execute_result"
        }
      ],
      "source": [
        "df.head(2)"
      ]
    },
    {
      "cell_type": "code",
      "execution_count": 181,
      "metadata": {
        "id": "-mY5EI_vXAc3"
      },
      "outputs": [],
      "source": [
        "df['family_count']=df['sibsp']+df['parch']"
      ]
    },
    {
      "cell_type": "code",
      "execution_count": 182,
      "metadata": {
        "colab": {
          "base_uri": "https://localhost:8080/",
          "height": 167
        },
        "id": "SyM_UPy0XO58",
        "outputId": "0baf6801-e3bc-4c0a-8902-083fc35466c8"
      },
      "outputs": [
        {
          "data": {
            "text/html": [
              "<div>\n",
              "<style scoped>\n",
              "    .dataframe tbody tr th:only-of-type {\n",
              "        vertical-align: middle;\n",
              "    }\n",
              "\n",
              "    .dataframe tbody tr th {\n",
              "        vertical-align: top;\n",
              "    }\n",
              "\n",
              "    .dataframe thead th {\n",
              "        text-align: right;\n",
              "    }\n",
              "</style>\n",
              "<table border=\"1\" class=\"dataframe\">\n",
              "  <thead>\n",
              "    <tr style=\"text-align: right;\">\n",
              "      <th></th>\n",
              "      <th>pclass</th>\n",
              "      <th>sex</th>\n",
              "      <th>age</th>\n",
              "      <th>ticket</th>\n",
              "      <th>fare</th>\n",
              "      <th>embarked</th>\n",
              "      <th>survived</th>\n",
              "      <th>courtesy_title</th>\n",
              "      <th>lname</th>\n",
              "      <th>fname</th>\n",
              "      <th>family_count</th>\n",
              "    </tr>\n",
              "  </thead>\n",
              "  <tbody>\n",
              "    <tr>\n",
              "      <th>0</th>\n",
              "      <td>1</td>\n",
              "      <td>female</td>\n",
              "      <td>29.0000</td>\n",
              "      <td>24160</td>\n",
              "      <td>211</td>\n",
              "      <td>S</td>\n",
              "      <td>1</td>\n",
              "      <td>Miss</td>\n",
              "      <td>Allen</td>\n",
              "      <td>Elisabeth Walton</td>\n",
              "      <td>0</td>\n",
              "    </tr>\n",
              "    <tr>\n",
              "      <th>1</th>\n",
              "      <td>1</td>\n",
              "      <td>male</td>\n",
              "      <td>0.9167</td>\n",
              "      <td>113781</td>\n",
              "      <td>151</td>\n",
              "      <td>S</td>\n",
              "      <td>1</td>\n",
              "      <td>Master</td>\n",
              "      <td>Allison</td>\n",
              "      <td>Hudson Trevor</td>\n",
              "      <td>3</td>\n",
              "    </tr>\n",
              "  </tbody>\n",
              "</table>\n",
              "</div>"
            ],
            "text/plain": [
              "   pclass     sex      age  ticket  fare embarked  survived courtesy_title  \\\n",
              "0       1  female  29.0000   24160   211        S         1           Miss   \n",
              "1       1    male   0.9167  113781   151        S         1         Master   \n",
              "\n",
              "     lname              fname  family_count  \n",
              "0    Allen   Elisabeth Walton             0  \n",
              "1  Allison      Hudson Trevor             3  "
            ]
          },
          "execution_count": 182,
          "metadata": {},
          "output_type": "execute_result"
        }
      ],
      "source": [
        "df=df.drop(columns=['sibsp','parch'])\n",
        "df.head(2)"
      ]
    },
    {
      "cell_type": "code",
      "execution_count": 183,
      "metadata": {
        "id": "7PiNcbSGYPto"
      },
      "outputs": [],
      "source": [
        "# Rename the sex column to gender column\n",
        "# rename() -- used to change the name of the rows/columns\n",
        "# for rows --->           index={'old_name' : 'new_name' ,............}\n",
        "# for columns --->        columns={'old_name' : 'new_name' ,............}\n",
        "df=df.rename(columns={'sex':'gender'})"
      ]
    },
    {
      "cell_type": "code",
      "execution_count": 184,
      "metadata": {
        "colab": {
          "base_uri": "https://localhost:8080/"
        },
        "id": "wsQ6uEpQZeBy",
        "outputId": "8026df5f-7eea-4487-87e7-4fd90b72fc84"
      },
      "outputs": [
        {
          "data": {
            "text/plain": [
              "Index(['pclass', 'gender', 'age', 'ticket', 'fare', 'embarked', 'survived',\n",
              "       'courtesy_title', 'lname', 'fname', 'family_count'],\n",
              "      dtype='object')"
            ]
          },
          "execution_count": 184,
          "metadata": {},
          "output_type": "execute_result"
        }
      ],
      "source": [
        "df.columns"
      ]
    },
    {
      "cell_type": "code",
      "execution_count": 185,
      "metadata": {
        "colab": {
          "base_uri": "https://localhost:8080/"
        },
        "id": "TK6vOXs2aczj",
        "outputId": "dcdc8327-13e6-42d4-c4c5-3c4b930eb6f2"
      },
      "outputs": [
        {
          "data": {
            "text/plain": [
              "array(['S', 'C', 'Q'], dtype=object)"
            ]
          },
          "execution_count": 185,
          "metadata": {},
          "output_type": "execute_result"
        }
      ],
      "source": [
        "pd.unique(df['embarked']) # to get unique data in a column"
      ]
    },
    {
      "cell_type": "code",
      "execution_count": 186,
      "metadata": {
        "id": "0GaE0CSeaPhB"
      },
      "outputs": [],
      "source": [
        "# replace() --> used to replace the old_values by new_values\n",
        "#           --> we have to pass dict\n",
        "df['embarked']=df['embarked'].replace({'S':'Southampton', 'C':'Cherbourg' ,'Q':'Queenstown'})"
      ]
    },
    {
      "cell_type": "code",
      "execution_count": 187,
      "metadata": {
        "colab": {
          "base_uri": "https://localhost:8080/",
          "height": 167
        },
        "id": "iKsX7aGza0Xa",
        "outputId": "24b0722d-8872-4be8-aa28-a725ba785d57"
      },
      "outputs": [
        {
          "data": {
            "text/html": [
              "<div>\n",
              "<style scoped>\n",
              "    .dataframe tbody tr th:only-of-type {\n",
              "        vertical-align: middle;\n",
              "    }\n",
              "\n",
              "    .dataframe tbody tr th {\n",
              "        vertical-align: top;\n",
              "    }\n",
              "\n",
              "    .dataframe thead th {\n",
              "        text-align: right;\n",
              "    }\n",
              "</style>\n",
              "<table border=\"1\" class=\"dataframe\">\n",
              "  <thead>\n",
              "    <tr style=\"text-align: right;\">\n",
              "      <th></th>\n",
              "      <th>pclass</th>\n",
              "      <th>gender</th>\n",
              "      <th>age</th>\n",
              "      <th>ticket</th>\n",
              "      <th>fare</th>\n",
              "      <th>embarked</th>\n",
              "      <th>survived</th>\n",
              "      <th>courtesy_title</th>\n",
              "      <th>lname</th>\n",
              "      <th>fname</th>\n",
              "      <th>family_count</th>\n",
              "    </tr>\n",
              "  </thead>\n",
              "  <tbody>\n",
              "    <tr>\n",
              "      <th>0</th>\n",
              "      <td>1</td>\n",
              "      <td>female</td>\n",
              "      <td>29.0000</td>\n",
              "      <td>24160</td>\n",
              "      <td>211</td>\n",
              "      <td>Southampton</td>\n",
              "      <td>1</td>\n",
              "      <td>Miss</td>\n",
              "      <td>Allen</td>\n",
              "      <td>Elisabeth Walton</td>\n",
              "      <td>0</td>\n",
              "    </tr>\n",
              "    <tr>\n",
              "      <th>1</th>\n",
              "      <td>1</td>\n",
              "      <td>male</td>\n",
              "      <td>0.9167</td>\n",
              "      <td>113781</td>\n",
              "      <td>151</td>\n",
              "      <td>Southampton</td>\n",
              "      <td>1</td>\n",
              "      <td>Master</td>\n",
              "      <td>Allison</td>\n",
              "      <td>Hudson Trevor</td>\n",
              "      <td>3</td>\n",
              "    </tr>\n",
              "  </tbody>\n",
              "</table>\n",
              "</div>"
            ],
            "text/plain": [
              "   pclass  gender      age  ticket  fare     embarked  survived  \\\n",
              "0       1  female  29.0000   24160   211  Southampton         1   \n",
              "1       1    male   0.9167  113781   151  Southampton         1   \n",
              "\n",
              "  courtesy_title    lname              fname  family_count  \n",
              "0           Miss    Allen   Elisabeth Walton             0  \n",
              "1         Master  Allison      Hudson Trevor             3  "
            ]
          },
          "execution_count": 187,
          "metadata": {},
          "output_type": "execute_result"
        }
      ],
      "source": [
        "df.head(2)"
      ]
    },
    {
      "cell_type": "code",
      "execution_count": null,
      "metadata": {},
      "outputs": [],
      "source": [
        "# creating age_category using age column\n",
        "df['age_category']=pd.cut(df['age'],bins=[0,2,16,25,49,100],labels=['baby','child','teen','adult','senior'])"
      ]
    },
    {
      "cell_type": "code",
      "execution_count": 189,
      "metadata": {
        "colab": {
          "base_uri": "https://localhost:8080/"
        },
        "id": "hjUni164cAzc",
        "outputId": "4e596f44-795d-4777-e6a6-e5f630fac4bf"
      },
      "outputs": [
        {
          "data": {
            "text/plain": [
              "Index(['pclass', 'gender', 'age', 'ticket', 'fare', 'embarked', 'survived',\n",
              "       'courtesy_title', 'lname', 'fname', 'family_count', 'age_category'],\n",
              "      dtype='object')"
            ]
          },
          "execution_count": 189,
          "metadata": {},
          "output_type": "execute_result"
        }
      ],
      "source": [
        "df.columns"
      ]
    },
    {
      "cell_type": "code",
      "execution_count": 190,
      "metadata": {
        "id": "85j99rypcF6E"
      },
      "outputs": [],
      "source": [
        "new_order=['courtesy_title','fname','lname','gender','age','age_category','ticket',\n",
        "           'pclass','embarked','family_count','fare','survived']\n",
        "\n",
        "df=df[new_order]"
      ]
    },
    {
      "cell_type": "code",
      "execution_count": 191,
      "metadata": {
        "colab": {
          "base_uri": "https://localhost:8080/",
          "height": 167
        },
        "id": "bq9jd0IIdDpj",
        "outputId": "ef0b58e4-ead7-4fe4-8177-105a578a0177"
      },
      "outputs": [
        {
          "data": {
            "text/html": [
              "<div>\n",
              "<style scoped>\n",
              "    .dataframe tbody tr th:only-of-type {\n",
              "        vertical-align: middle;\n",
              "    }\n",
              "\n",
              "    .dataframe tbody tr th {\n",
              "        vertical-align: top;\n",
              "    }\n",
              "\n",
              "    .dataframe thead th {\n",
              "        text-align: right;\n",
              "    }\n",
              "</style>\n",
              "<table border=\"1\" class=\"dataframe\">\n",
              "  <thead>\n",
              "    <tr style=\"text-align: right;\">\n",
              "      <th></th>\n",
              "      <th>courtesy_title</th>\n",
              "      <th>fname</th>\n",
              "      <th>lname</th>\n",
              "      <th>gender</th>\n",
              "      <th>age</th>\n",
              "      <th>age_category</th>\n",
              "      <th>ticket</th>\n",
              "      <th>pclass</th>\n",
              "      <th>embarked</th>\n",
              "      <th>family_count</th>\n",
              "      <th>fare</th>\n",
              "      <th>survived</th>\n",
              "    </tr>\n",
              "  </thead>\n",
              "  <tbody>\n",
              "    <tr>\n",
              "      <th>0</th>\n",
              "      <td>Miss</td>\n",
              "      <td>Elisabeth Walton</td>\n",
              "      <td>Allen</td>\n",
              "      <td>female</td>\n",
              "      <td>29.0000</td>\n",
              "      <td>adult</td>\n",
              "      <td>24160</td>\n",
              "      <td>1</td>\n",
              "      <td>Southampton</td>\n",
              "      <td>0</td>\n",
              "      <td>211</td>\n",
              "      <td>1</td>\n",
              "    </tr>\n",
              "    <tr>\n",
              "      <th>1</th>\n",
              "      <td>Master</td>\n",
              "      <td>Hudson Trevor</td>\n",
              "      <td>Allison</td>\n",
              "      <td>male</td>\n",
              "      <td>0.9167</td>\n",
              "      <td>baby</td>\n",
              "      <td>113781</td>\n",
              "      <td>1</td>\n",
              "      <td>Southampton</td>\n",
              "      <td>3</td>\n",
              "      <td>151</td>\n",
              "      <td>1</td>\n",
              "    </tr>\n",
              "  </tbody>\n",
              "</table>\n",
              "</div>"
            ],
            "text/plain": [
              "  courtesy_title              fname    lname  gender      age age_category  \\\n",
              "0           Miss   Elisabeth Walton    Allen  female  29.0000        adult   \n",
              "1         Master      Hudson Trevor  Allison    male   0.9167         baby   \n",
              "\n",
              "   ticket  pclass     embarked  family_count  fare  survived  \n",
              "0   24160       1  Southampton             0   211         1  \n",
              "1  113781       1  Southampton             3   151         1  "
            ]
          },
          "execution_count": 191,
          "metadata": {},
          "output_type": "execute_result"
        }
      ],
      "source": [
        "df.head(2)"
      ]
    },
    {
      "cell_type": "markdown",
      "metadata": {
        "id": "EKcPM40fDq3N"
      },
      "source": [
        "# ANALYSIS"
      ]
    },
    {
      "cell_type": "markdown",
      "metadata": {
        "id": "mw5bF0dd7W5a"
      },
      "source": [
        "# get the statistical description for all numerical columns"
      ]
    },
    {
      "cell_type": "markdown",
      "metadata": {
        "id": "oR9oqCeW7zoG"
      },
      "source": [
        "# get top 5 records (passengers data)"
      ]
    },
    {
      "cell_type": "markdown",
      "metadata": {
        "id": "uQBS5aWe8BFk"
      },
      "source": [
        "# get the last 5 records"
      ]
    },
    {
      "cell_type": "markdown",
      "metadata": {
        "id": "FAeUG4nM8SQT"
      },
      "source": [
        "# get the total_no_records"
      ]
    },
    {
      "cell_type": "markdown",
      "metadata": {
        "id": "-iSVsr-68zkr"
      },
      "source": [
        "# get the total columns"
      ]
    },
    {
      "cell_type": "markdown",
      "metadata": {
        "id": "gNkQMw4X9Irf"
      },
      "source": [
        "# get the first row"
      ]
    },
    {
      "cell_type": "markdown",
      "metadata": {
        "id": "Bcbe917z9sDX"
      },
      "source": [
        "# get the second row"
      ]
    },
    {
      "cell_type": "markdown",
      "metadata": {
        "id": "MAGhjbzK-BG1"
      },
      "source": [
        "# get the fname and age of all passengers"
      ]
    },
    {
      "cell_type": "markdown",
      "metadata": {
        "id": "O3VgsIjS-zM0"
      },
      "source": [
        "# get the 5th and 6th passenger fname ,age and survived details"
      ]
    },
    {
      "cell_type": "markdown",
      "metadata": {
        "id": "AybFuz3q_dfp"
      },
      "source": [
        "# get the passenger details of pclass 1"
      ]
    },
    {
      "cell_type": "markdown",
      "metadata": {
        "id": "LW5SYPjoA7s9"
      },
      "source": [
        "# get the passenger fname and age of pclass 1"
      ]
    },
    {
      "cell_type": "markdown",
      "metadata": {
        "id": "rXZye9KqBkan"
      },
      "source": [
        "# get the male passenger details of pclass 1"
      ]
    },
    {
      "cell_type": "markdown",
      "metadata": {
        "id": "PFEohM3VCZTI"
      },
      "source": [
        "# get the female passengers fname who were survived in pclass 1"
      ]
    },
    {
      "cell_type": "markdown",
      "metadata": {
        "id": "GE-JNqpywzKG"
      },
      "source": [
        "# Get the passengers details whose embarked is Southampton, cherbourg"
      ]
    },
    {
      "cell_type": "markdown",
      "metadata": {},
      "source": [
        "# Get the no_of passengers\n",
        "# Get the no_of male passengers"
      ]
    },
    {
      "cell_type": "markdown",
      "metadata": {
        "id": "X2bNBTdRx8cT"
      },
      "source": [
        "# Get the highest fare\n",
        "# Get the lowest fare among female passengers"
      ]
    },
    {
      "cell_type": "markdown",
      "metadata": {
        "id": "D60vX1FAyGY1"
      },
      "source": [
        "\n",
        "# Get the no_of_survivals\n",
        "# Get the survival rate"
      ]
    },
    {
      "cell_type": "markdown",
      "metadata": {
        "id": "_WcYgDYiyaiS"
      },
      "source": [
        "# Get the aggregates for fare column"
      ]
    },
    {
      "cell_type": "markdown",
      "metadata": {
        "id": "OZ132l1kymwm"
      },
      "source": [
        "# Get the no_of_passengers in each gender"
      ]
    },
    {
      "cell_type": "markdown",
      "metadata": {
        "id": "DKbEsb5JyuH7"
      },
      "source": [
        "# Get the total fare in each pclass"
      ]
    },
    {
      "cell_type": "markdown",
      "metadata": {
        "id": "S4dAEuNLy5m0"
      },
      "source": [
        "# Get the pclass wise survival rate and count"
      ]
    },
    {
      "cell_type": "markdown",
      "metadata": {
        "id": "FrOGPnIYzSOc"
      },
      "source": [
        "# Get the pclass,gender wise survival rate"
      ]
    },
    {
      "cell_type": "markdown",
      "metadata": {
        "id": "MzwHJXRuzycb"
      },
      "source": [
        "# Get the no.of.psgn in each pclass"
      ]
    },
    {
      "cell_type": "markdown",
      "metadata": {
        "id": "AIFAuASVzljm"
      },
      "source": [
        "# Find the pclass in which highest no_of_passengers are there"
      ]
    },
    {
      "cell_type": "markdown",
      "metadata": {
        "id": "aelUi-qsz8tj"
      },
      "source": [
        "# Find the pclass in which lowest no_of_passengers are there"
      ]
    },
    {
      "cell_type": "markdown",
      "metadata": {
        "id": "Nd_z1s5t0pP4"
      },
      "source": [
        "# Find the no.of.familes travelling"
      ]
    },
    {
      "cell_type": "markdown",
      "metadata": {
        "id": "J7Wi9Nl-1NDK"
      },
      "source": [
        "# Find the no.of.familes travelling  who got survived"
      ]
    },
    {
      "cell_type": "markdown",
      "metadata": {
        "id": "ft7bBI3_1WJM"
      },
      "source": [
        "# find the correlation between the numerical columns"
      ]
    },
    {
      "cell_type": "markdown",
      "metadata": {
        "id": "D5nPKLdF2Bpy"
      },
      "source": [
        "# What is correlation b/w fare and pclass\n",
        "\n",
        "# what is the correlate b/w fare and survival\n",
        "\n",
        "# What is correlation b/w age and survival"
      ]
    },
    {
      "cell_type": "markdown",
      "metadata": {
        "id": "w1kGfuyC1dPu"
      },
      "source": [
        "# Get the pclass wise male and female count and survival rate"
      ]
    },
    {
      "cell_type": "markdown",
      "metadata": {
        "id": "nG29gGtn17cr"
      },
      "source": [
        "# Get the age_seg wise no.of.psgns and survival rate"
      ]
    },
    {
      "cell_type": "markdown",
      "metadata": {
        "id": "iT_b0rMX2eUJ"
      },
      "source": [
        "# Get the age_seg which has high_survivale rate"
      ]
    },
    {
      "cell_type": "markdown",
      "metadata": {
        "id": "OWh7IZ0W2wQa"
      },
      "source": [
        "# Get the gender and age_seg which has high survival rate"
      ]
    },
    {
      "cell_type": "markdown",
      "metadata": {
        "id": "VF62_Lzs3CeP"
      },
      "source": [
        "# Get the pclass,age_seg,gender in which survival rate is high"
      ]
    },
    {
      "cell_type": "markdown",
      "metadata": {
        "id": "ESTHQ2dG3SgS"
      },
      "source": [
        "# Get the solo travelers full name"
      ]
    },
    {
      "cell_type": "markdown",
      "metadata": {
        "id": "e-YoJ8vo4MfN"
      },
      "source": [
        "# solo travelers survival rate v/s psngs  with family survival rate"
      ]
    },
    {
      "cell_type": "markdown",
      "metadata": {
        "id": "FJX1c0bG4vbc"
      },
      "source": [
        "# Find the gender and pclass wise survival rate of solo travelers"
      ]
    },
    {
      "cell_type": "markdown",
      "metadata": {
        "id": "-5R4qkml6uDM"
      },
      "source": []
    }
  ],
  "metadata": {
    "colab": {
      "provenance": []
    },
    "kernelspec": {
      "display_name": "Python 3",
      "name": "python3"
    },
    "language_info": {
      "codemirror_mode": {
        "name": "ipython",
        "version": 3
      },
      "file_extension": ".py",
      "mimetype": "text/x-python",
      "name": "python",
      "nbconvert_exporter": "python",
      "pygments_lexer": "ipython3",
      "version": "3.11.0"
    }
  },
  "nbformat": 4,
  "nbformat_minor": 0
}
