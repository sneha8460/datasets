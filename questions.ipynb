{
 "cells": [
  {
   "cell_type": "markdown",
   "metadata": {},
   "source": [
    "# 1. Plot the total count of male and female passengers.\n",
    "\n",
    "# 2. Plot the total count of male and female passengers in each passenger class.\n",
    "\n",
    "# 3. Plot the count of survived and non-survived passengers.\n",
    "\n",
    "# 4. Plot the gender-wise count of survived and non-survived passengers.\n",
    "\n",
    "# 5. Plot the count of passengers in each age category.\n",
    "\n",
    "# 6. Plot the count of survived and non-survived passengers in each age category.\n",
    "\n",
    "# 7. Plot the number of passengers who boarded at each port.\n",
    "\n",
    "# 8. Plot the total fare collected for each passenger class.\n",
    "\n",
    "# 9. Plot the total fare collected for each gender.\n",
    "\n",
    "# 10. Plot the average fare for each passenger class.\n",
    "\n",
    "# 11. Plot the percentage of passengers in each age category.\n",
    "\n",
    "# 12. Plot the relationship between fare and passenger class.\n",
    "\n",
    "# 13. Plot the distribution of fares.\n",
    "\n",
    "# 14. Plot the distribution of ages.\n",
    "\n",
    "# 15. Plot the survival rate in each passenger class.\n",
    "\n",
    "# 16. Plot the survival rate in each age category.\n",
    "\n",
    "# 17. Plot the variation in fare and age.\n",
    "\n",
    "# 18.  Did fare affect survival.\n",
    "\n",
    "# 19.  Is there any role of age in survival.\n",
    "\n",
    "# 20.  Why did females have more survival chances than males? Which factor influenced this."
   ]
  },
  {
   "cell_type": "code",
   "execution_count": null,
   "metadata": {},
   "outputs": [],
   "source": []
  }
 ],
 "metadata": {
  "kernelspec": {
   "display_name": "Python 3",
   "language": "python",
   "name": "python3"
  },
  "language_info": {
   "codemirror_mode": {
    "name": "ipython",
    "version": 3
   },
   "file_extension": ".py",
   "mimetype": "text/x-python",
   "name": "python",
   "nbconvert_exporter": "python",
   "pygments_lexer": "ipython3",
   "version": "3.11.0"
  }
 },
 "nbformat": 4,
 "nbformat_minor": 2
}
